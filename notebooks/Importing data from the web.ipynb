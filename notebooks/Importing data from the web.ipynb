{
 "cells": [
  {
   "cell_type": "markdown",
   "metadata": {},
   "source": [
    "# Importing data from the web (Part 1)\n",
    "\n",
    "More and more of the information that data scientists are using resides on the web. Importing this data into R requires an understanding of the protocols used on the web. \n",
    "\n",
    "## HTTP\n",
    "\n",
    "### Import flat files from the web"
   ]
  },
  {
   "cell_type": "code",
   "execution_count": 3,
   "metadata": {},
   "outputs": [
    {
     "name": "stderr",
     "output_type": "stream",
     "text": [
      "also installing the dependencies 'assertthat', 'glue', 'utf8', 'cli', 'ellipsis', 'fansi', 'lifecycle', 'magrittr', 'pillar', 'pkgconfig', 'rlang', 'vctrs', 'tibble', 'hms', 'R6', 'clipr', 'BH'\n",
      "\n"
     ]
    },
    {
     "name": "stdout",
     "output_type": "stream",
     "text": [
      "package 'assertthat' successfully unpacked and MD5 sums checked\n",
      "package 'glue' successfully unpacked and MD5 sums checked\n",
      "package 'utf8' successfully unpacked and MD5 sums checked\n",
      "package 'cli' successfully unpacked and MD5 sums checked\n",
      "package 'ellipsis' successfully unpacked and MD5 sums checked\n",
      "package 'fansi' successfully unpacked and MD5 sums checked\n",
      "package 'lifecycle' successfully unpacked and MD5 sums checked\n",
      "package 'magrittr' successfully unpacked and MD5 sums checked\n",
      "package 'pillar' successfully unpacked and MD5 sums checked\n",
      "package 'pkgconfig' successfully unpacked and MD5 sums checked\n",
      "package 'rlang' successfully unpacked and MD5 sums checked\n",
      "package 'vctrs' successfully unpacked and MD5 sums checked\n",
      "package 'tibble' successfully unpacked and MD5 sums checked\n",
      "package 'hms' successfully unpacked and MD5 sums checked\n",
      "package 'R6' successfully unpacked and MD5 sums checked\n",
      "package 'clipr' successfully unpacked and MD5 sums checked\n",
      "package 'BH' successfully unpacked and MD5 sums checked\n",
      "package 'readr' successfully unpacked and MD5 sums checked\n",
      "\n",
      "The downloaded binary packages are in\n",
      "\tC:\\Users\\user\\AppData\\Local\\Temp\\RtmpANDkay\\downloaded_packages\n"
     ]
    }
   ],
   "source": [
    "install.packages(\"readr\")"
   ]
  },
  {
   "cell_type": "code",
   "execution_count": 4,
   "metadata": {},
   "outputs": [
    {
     "name": "stderr",
     "output_type": "stream",
     "text": [
      "Warning message:\n",
      "\"package 'readr' was built under R version 3.6.3\"`curl` package not installed, falling back to using `url()`\n",
      "Parsed with column specification:\n",
      "cols(\n",
      "  Name = col_character(),\n",
      "  Address = col_character(),\n",
      "  Latitude = col_double(),\n",
      "  Longitude = col_double()\n",
      ")\n",
      "`curl` package not installed, falling back to using `url()`\n",
      "Parsed with column specification:\n",
      "cols(\n",
      "  area = col_double(),\n",
      "  temp = col_double(),\n",
      "  size = col_double(),\n",
      "  storage = col_double(),\n",
      "  method = col_double(),\n",
      "  texture = col_double(),\n",
      "  flavor = col_double(),\n",
      "  moistness = col_double()\n",
      ")\n"
     ]
    },
    {
     "data": {
      "text/html": [
       "<table>\n",
       "<thead><tr><th scope=col>Name</th><th scope=col>Address</th><th scope=col>Latitude</th><th scope=col>Longitude</th></tr></thead>\n",
       "<tbody>\n",
       "\t<tr><td>Acacia Ridge Leisure Centre                </td><td>1391 Beaudesert Road, Acacia Ridge         </td><td>-27.58616                                  </td><td>153.0264                                   </td></tr>\n",
       "\t<tr><td>Bellbowrie Pool                            </td><td>Sugarwood Street, Bellbowrie               </td><td>-27.56547                                  </td><td>152.8911                                   </td></tr>\n",
       "\t<tr><td>Carole Park                                </td><td>Cnr Boundary Road and Waterford Road Wacol </td><td>-27.60744                                  </td><td>152.9315                                   </td></tr>\n",
       "\t<tr><td>Centenary Pool (inner City)                </td><td>400 Gregory Terrace, Spring Hill           </td><td>-27.45537                                  </td><td>153.0251                                   </td></tr>\n",
       "\t<tr><td>Chermside Pool                             </td><td>375 Hamilton Road, Chermside               </td><td>-27.38583                                  </td><td>153.0351                                   </td></tr>\n",
       "\t<tr><td>Colmslie Pool (Morningside)                </td><td>400 Lytton Road, Morningside               </td><td>-27.45516                                  </td><td>153.0789                                   </td></tr>\n",
       "\t<tr><td>Spring Hill Baths (inner City)             </td><td>14 Torrington Street, Springhill           </td><td>-27.45960                                  </td><td>153.0215                                   </td></tr>\n",
       "\t<tr><td>Dunlop Park Pool (Corinda)                 </td><td>794 Oxley Road, Corinda                    </td><td>-27.54652                                  </td><td>152.9806                                   </td></tr>\n",
       "\t<tr><td>Fortitude Valley Pool                      </td><td>432 Wickham Street, Fortitude Valley       </td><td>-27.45390                                  </td><td>153.0368                                   </td></tr>\n",
       "\t<tr><td>Hibiscus Sports Complex (upper MtGravatt)  </td><td>90 Klumpp Road, Upper Mount Gravatt        </td><td>-27.55183                                  </td><td>153.0735                                   </td></tr>\n",
       "\t<tr><td>Ithaca Pool ( Paddington)                  </td><td>131 Caxton Street, Paddington              </td><td>-27.46226                                  </td><td>153.0103                                   </td></tr>\n",
       "\t<tr><td>Jindalee Pool                              </td><td>11 Yallambee Road, Jindalee                </td><td>-27.53236                                  </td><td>152.9427                                   </td></tr>\n",
       "\t<tr><td>Manly Pool                                 </td><td>1 Fairlead Crescent, Manly                 </td><td>-27.45228                                  </td><td>153.1874                                   </td></tr>\n",
       "\t<tr><td>Mt Gravatt East Aquatic Centre             </td><td>Cnr wecker Road and Newnham Road, Mansfield</td><td>-27.53214                                  </td><td>153.0943                                   </td></tr>\n",
       "\t<tr><td>Musgrave Park Pool (South Brisbane)        </td><td>100 Edmonstone Street, South Brisbane      </td><td>-27.47978                                  </td><td>153.0168                                   </td></tr>\n",
       "\t<tr><td>Newmarket Pool                             </td><td>71 Alderson Stret, Newmarket               </td><td>-27.42968                                  </td><td>153.0062                                   </td></tr>\n",
       "\t<tr><td>Runcorn Pool                               </td><td>37 Bonemill Road, Runcorn                  </td><td>-27.59156                                  </td><td>153.0764                                   </td></tr>\n",
       "\t<tr><td>Sandgate Pool                              </td><td>231 Flinders Parade, Sandgate              </td><td>-27.31196                                  </td><td>153.0691                                   </td></tr>\n",
       "\t<tr><td>Langlands Parks Pool (Stones Corner)       </td><td>5 Panitya Street, Stones Corner            </td><td>-27.49769                                  </td><td>153.0487                                   </td></tr>\n",
       "\t<tr><td>Yeronga Park Pool                          </td><td>81 School Road, Yeronga                    </td><td>-27.52053                                  </td><td>153.0185                                   </td></tr>\n",
       "</tbody>\n",
       "</table>\n"
      ],
      "text/latex": [
       "\\begin{tabular}{r|llll}\n",
       " Name & Address & Latitude & Longitude\\\\\n",
       "\\hline\n",
       "\t Acacia Ridge Leisure Centre                 & 1391 Beaudesert Road, Acacia Ridge          & -27.58616                                   & 153.0264                                   \\\\\n",
       "\t Bellbowrie Pool                             & Sugarwood Street, Bellbowrie                & -27.56547                                   & 152.8911                                   \\\\\n",
       "\t Carole Park                                 & Cnr Boundary Road and Waterford Road Wacol  & -27.60744                                   & 152.9315                                   \\\\\n",
       "\t Centenary Pool (inner City)                 & 400 Gregory Terrace, Spring Hill            & -27.45537                                   & 153.0251                                   \\\\\n",
       "\t Chermside Pool                              & 375 Hamilton Road, Chermside                & -27.38583                                   & 153.0351                                   \\\\\n",
       "\t Colmslie Pool (Morningside)                 & 400 Lytton Road, Morningside                & -27.45516                                   & 153.0789                                   \\\\\n",
       "\t Spring Hill Baths (inner City)              & 14 Torrington Street, Springhill            & -27.45960                                   & 153.0215                                   \\\\\n",
       "\t Dunlop Park Pool (Corinda)                  & 794 Oxley Road, Corinda                     & -27.54652                                   & 152.9806                                   \\\\\n",
       "\t Fortitude Valley Pool                       & 432 Wickham Street, Fortitude Valley        & -27.45390                                   & 153.0368                                   \\\\\n",
       "\t Hibiscus Sports Complex (upper MtGravatt)   & 90 Klumpp Road, Upper Mount Gravatt         & -27.55183                                   & 153.0735                                   \\\\\n",
       "\t Ithaca Pool ( Paddington)                   & 131 Caxton Street, Paddington               & -27.46226                                   & 153.0103                                   \\\\\n",
       "\t Jindalee Pool                               & 11 Yallambee Road, Jindalee                 & -27.53236                                   & 152.9427                                   \\\\\n",
       "\t Manly Pool                                  & 1 Fairlead Crescent, Manly                  & -27.45228                                   & 153.1874                                   \\\\\n",
       "\t Mt Gravatt East Aquatic Centre              & Cnr wecker Road and Newnham Road, Mansfield & -27.53214                                   & 153.0943                                   \\\\\n",
       "\t Musgrave Park Pool (South Brisbane)         & 100 Edmonstone Street, South Brisbane       & -27.47978                                   & 153.0168                                   \\\\\n",
       "\t Newmarket Pool                              & 71 Alderson Stret, Newmarket                & -27.42968                                   & 153.0062                                   \\\\\n",
       "\t Runcorn Pool                                & 37 Bonemill Road, Runcorn                   & -27.59156                                   & 153.0764                                   \\\\\n",
       "\t Sandgate Pool                               & 231 Flinders Parade, Sandgate               & -27.31196                                   & 153.0691                                   \\\\\n",
       "\t Langlands Parks Pool (Stones Corner)        & 5 Panitya Street, Stones Corner             & -27.49769                                   & 153.0487                                   \\\\\n",
       "\t Yeronga Park Pool                           & 81 School Road, Yeronga                     & -27.52053                                   & 153.0185                                   \\\\\n",
       "\\end{tabular}\n"
      ],
      "text/markdown": [
       "\n",
       "| Name | Address | Latitude | Longitude |\n",
       "|---|---|---|---|\n",
       "| Acacia Ridge Leisure Centre                 | 1391 Beaudesert Road, Acacia Ridge          | -27.58616                                   | 153.0264                                    |\n",
       "| Bellbowrie Pool                             | Sugarwood Street, Bellbowrie                | -27.56547                                   | 152.8911                                    |\n",
       "| Carole Park                                 | Cnr Boundary Road and Waterford Road Wacol  | -27.60744                                   | 152.9315                                    |\n",
       "| Centenary Pool (inner City)                 | 400 Gregory Terrace, Spring Hill            | -27.45537                                   | 153.0251                                    |\n",
       "| Chermside Pool                              | 375 Hamilton Road, Chermside                | -27.38583                                   | 153.0351                                    |\n",
       "| Colmslie Pool (Morningside)                 | 400 Lytton Road, Morningside                | -27.45516                                   | 153.0789                                    |\n",
       "| Spring Hill Baths (inner City)              | 14 Torrington Street, Springhill            | -27.45960                                   | 153.0215                                    |\n",
       "| Dunlop Park Pool (Corinda)                  | 794 Oxley Road, Corinda                     | -27.54652                                   | 152.9806                                    |\n",
       "| Fortitude Valley Pool                       | 432 Wickham Street, Fortitude Valley        | -27.45390                                   | 153.0368                                    |\n",
       "| Hibiscus Sports Complex (upper MtGravatt)   | 90 Klumpp Road, Upper Mount Gravatt         | -27.55183                                   | 153.0735                                    |\n",
       "| Ithaca Pool ( Paddington)                   | 131 Caxton Street, Paddington               | -27.46226                                   | 153.0103                                    |\n",
       "| Jindalee Pool                               | 11 Yallambee Road, Jindalee                 | -27.53236                                   | 152.9427                                    |\n",
       "| Manly Pool                                  | 1 Fairlead Crescent, Manly                  | -27.45228                                   | 153.1874                                    |\n",
       "| Mt Gravatt East Aquatic Centre              | Cnr wecker Road and Newnham Road, Mansfield | -27.53214                                   | 153.0943                                    |\n",
       "| Musgrave Park Pool (South Brisbane)         | 100 Edmonstone Street, South Brisbane       | -27.47978                                   | 153.0168                                    |\n",
       "| Newmarket Pool                              | 71 Alderson Stret, Newmarket                | -27.42968                                   | 153.0062                                    |\n",
       "| Runcorn Pool                                | 37 Bonemill Road, Runcorn                   | -27.59156                                   | 153.0764                                    |\n",
       "| Sandgate Pool                               | 231 Flinders Parade, Sandgate               | -27.31196                                   | 153.0691                                    |\n",
       "| Langlands Parks Pool (Stones Corner)        | 5 Panitya Street, Stones Corner             | -27.49769                                   | 153.0487                                    |\n",
       "| Yeronga Park Pool                           | 81 School Road, Yeronga                     | -27.52053                                   | 153.0185                                    |\n",
       "\n"
      ],
      "text/plain": [
       "   Name                                     \n",
       "1  Acacia Ridge Leisure Centre              \n",
       "2  Bellbowrie Pool                          \n",
       "3  Carole Park                              \n",
       "4  Centenary Pool (inner City)              \n",
       "5  Chermside Pool                           \n",
       "6  Colmslie Pool (Morningside)              \n",
       "7  Spring Hill Baths (inner City)           \n",
       "8  Dunlop Park Pool (Corinda)               \n",
       "9  Fortitude Valley Pool                    \n",
       "10 Hibiscus Sports Complex (upper MtGravatt)\n",
       "11 Ithaca Pool ( Paddington)                \n",
       "12 Jindalee Pool                            \n",
       "13 Manly Pool                               \n",
       "14 Mt Gravatt East Aquatic Centre           \n",
       "15 Musgrave Park Pool (South Brisbane)      \n",
       "16 Newmarket Pool                           \n",
       "17 Runcorn Pool                             \n",
       "18 Sandgate Pool                            \n",
       "19 Langlands Parks Pool (Stones Corner)     \n",
       "20 Yeronga Park Pool                        \n",
       "   Address                                     Latitude  Longitude\n",
       "1  1391 Beaudesert Road, Acacia Ridge          -27.58616 153.0264 \n",
       "2  Sugarwood Street, Bellbowrie                -27.56547 152.8911 \n",
       "3  Cnr Boundary Road and Waterford Road Wacol  -27.60744 152.9315 \n",
       "4  400 Gregory Terrace, Spring Hill            -27.45537 153.0251 \n",
       "5  375 Hamilton Road, Chermside                -27.38583 153.0351 \n",
       "6  400 Lytton Road, Morningside                -27.45516 153.0789 \n",
       "7  14 Torrington Street, Springhill            -27.45960 153.0215 \n",
       "8  794 Oxley Road, Corinda                     -27.54652 152.9806 \n",
       "9  432 Wickham Street, Fortitude Valley        -27.45390 153.0368 \n",
       "10 90 Klumpp Road, Upper Mount Gravatt         -27.55183 153.0735 \n",
       "11 131 Caxton Street, Paddington               -27.46226 153.0103 \n",
       "12 11 Yallambee Road, Jindalee                 -27.53236 152.9427 \n",
       "13 1 Fairlead Crescent, Manly                  -27.45228 153.1874 \n",
       "14 Cnr wecker Road and Newnham Road, Mansfield -27.53214 153.0943 \n",
       "15 100 Edmonstone Street, South Brisbane       -27.47978 153.0168 \n",
       "16 71 Alderson Stret, Newmarket                -27.42968 153.0062 \n",
       "17 37 Bonemill Road, Runcorn                   -27.59156 153.0764 \n",
       "18 231 Flinders Parade, Sandgate               -27.31196 153.0691 \n",
       "19 5 Panitya Street, Stones Corner             -27.49769 153.0487 \n",
       "20 81 School Road, Yeronga                     -27.52053 153.0185 "
      ]
     },
     "metadata": {},
     "output_type": "display_data"
    },
    {
     "data": {
      "text/html": [
       "<table>\n",
       "<thead><tr><th scope=col>area</th><th scope=col>temp</th><th scope=col>size</th><th scope=col>storage</th><th scope=col>method</th><th scope=col>texture</th><th scope=col>flavor</th><th scope=col>moistness</th></tr></thead>\n",
       "<tbody>\n",
       "\t<tr><td>1  </td><td>1  </td><td>1  </td><td>1  </td><td>1  </td><td>2.9</td><td>3.2</td><td>3.0</td></tr>\n",
       "\t<tr><td>1  </td><td>1  </td><td>1  </td><td>1  </td><td>2  </td><td>2.3</td><td>2.5</td><td>2.6</td></tr>\n",
       "\t<tr><td>1  </td><td>1  </td><td>1  </td><td>1  </td><td>3  </td><td>2.5</td><td>2.8</td><td>2.8</td></tr>\n",
       "\t<tr><td>1  </td><td>1  </td><td>1  </td><td>1  </td><td>4  </td><td>2.1</td><td>2.9</td><td>2.4</td></tr>\n",
       "\t<tr><td>1  </td><td>1  </td><td>1  </td><td>1  </td><td>5  </td><td>1.9</td><td>2.8</td><td>2.2</td></tr>\n",
       "\t<tr><td>1  </td><td>1  </td><td>1  </td><td>2  </td><td>1  </td><td>1.8</td><td>3.0</td><td>1.7</td></tr>\n",
       "\t<tr><td>1  </td><td>1  </td><td>1  </td><td>2  </td><td>2  </td><td>2.6</td><td>3.1</td><td>2.4</td></tr>\n",
       "\t<tr><td>1  </td><td>1  </td><td>1  </td><td>2  </td><td>3  </td><td>3.0</td><td>3.0</td><td>2.9</td></tr>\n",
       "\t<tr><td>1  </td><td>1  </td><td>1  </td><td>2  </td><td>4  </td><td>2.2</td><td>3.2</td><td>2.5</td></tr>\n",
       "\t<tr><td>1  </td><td>1  </td><td>1  </td><td>2  </td><td>5  </td><td>2.0</td><td>2.8</td><td>1.9</td></tr>\n",
       "\t<tr><td>1  </td><td>1  </td><td>1  </td><td>3  </td><td>1  </td><td>1.8</td><td>2.6</td><td>1.5</td></tr>\n",
       "\t<tr><td>1  </td><td>1  </td><td>1  </td><td>3  </td><td>2  </td><td>2.0</td><td>2.8</td><td>1.9</td></tr>\n",
       "\t<tr><td>1  </td><td>1  </td><td>1  </td><td>3  </td><td>3  </td><td>2.6</td><td>2.6</td><td>2.6</td></tr>\n",
       "\t<tr><td>1  </td><td>1  </td><td>1  </td><td>3  </td><td>4  </td><td>2.1</td><td>3.2</td><td>2.1</td></tr>\n",
       "\t<tr><td>1  </td><td>1  </td><td>1  </td><td>3  </td><td>5  </td><td>2.5</td><td>3.0</td><td>2.1</td></tr>\n",
       "\t<tr><td>1  </td><td>1  </td><td>1  </td><td>4  </td><td>1  </td><td>2.6</td><td>3.1</td><td>2.4</td></tr>\n",
       "\t<tr><td>1  </td><td>1  </td><td>1  </td><td>4  </td><td>2  </td><td>2.7</td><td>2.9</td><td>2.4</td></tr>\n",
       "\t<tr><td>1  </td><td>1  </td><td>1  </td><td>4  </td><td>3  </td><td>2.2</td><td>3.1</td><td>2.3</td></tr>\n",
       "\t<tr><td>1  </td><td>1  </td><td>1  </td><td>4  </td><td>4  </td><td>3.1</td><td>3.4</td><td>2.7</td></tr>\n",
       "\t<tr><td>1  </td><td>1  </td><td>1  </td><td>4  </td><td>5  </td><td>3.0</td><td>2.6</td><td>2.7</td></tr>\n",
       "\t<tr><td>1  </td><td>1  </td><td>2  </td><td>1  </td><td>1  </td><td>3.1</td><td>3.0</td><td>2.8</td></tr>\n",
       "\t<tr><td>1  </td><td>1  </td><td>2  </td><td>1  </td><td>2  </td><td>2.7</td><td>2.8</td><td>2.7</td></tr>\n",
       "\t<tr><td>1  </td><td>1  </td><td>2  </td><td>1  </td><td>3  </td><td>2.4</td><td>3.0</td><td>2.9</td></tr>\n",
       "\t<tr><td>1  </td><td>1  </td><td>2  </td><td>1  </td><td>4  </td><td>2.2</td><td>2.9</td><td>2.3</td></tr>\n",
       "\t<tr><td>1  </td><td>1  </td><td>2  </td><td>1  </td><td>5  </td><td>1.9</td><td>2.9</td><td>2.0</td></tr>\n",
       "\t<tr><td>1  </td><td>1  </td><td>2  </td><td>2  </td><td>1  </td><td>1.8</td><td>2.6</td><td>1.8</td></tr>\n",
       "\t<tr><td>1  </td><td>1  </td><td>2  </td><td>2  </td><td>2  </td><td>2.2</td><td>2.9</td><td>2.1</td></tr>\n",
       "\t<tr><td>1  </td><td>1  </td><td>2  </td><td>2  </td><td>3  </td><td>2.8</td><td>3.2</td><td>2.8</td></tr>\n",
       "\t<tr><td>1  </td><td>1  </td><td>2  </td><td>2  </td><td>4  </td><td>2.3</td><td>3.2</td><td>2.4</td></tr>\n",
       "\t<tr><td>1  </td><td>1  </td><td>2  </td><td>2  </td><td>5  </td><td>2.0</td><td>3.0</td><td>2.0</td></tr>\n",
       "\t<tr><td>...</td><td>...</td><td>...</td><td>...</td><td>...</td><td>...</td><td>...</td><td>...</td></tr>\n",
       "\t<tr><td>2  </td><td>2  </td><td>1  </td><td>3  </td><td>1  </td><td>2.8</td><td>2.8</td><td>2.6</td></tr>\n",
       "\t<tr><td>2  </td><td>2  </td><td>1  </td><td>3  </td><td>2  </td><td>3.5</td><td>2.8</td><td>3.0</td></tr>\n",
       "\t<tr><td>2  </td><td>2  </td><td>1  </td><td>3  </td><td>3  </td><td>2.5</td><td>3.2</td><td>2.3</td></tr>\n",
       "\t<tr><td>2  </td><td>2  </td><td>1  </td><td>3  </td><td>4  </td><td>3.3</td><td>3.0</td><td>2.7</td></tr>\n",
       "\t<tr><td>2  </td><td>2  </td><td>1  </td><td>3  </td><td>5  </td><td>3.5</td><td>2.9</td><td>2.9</td></tr>\n",
       "\t<tr><td>2  </td><td>2  </td><td>1  </td><td>4  </td><td>1  </td><td>3.2</td><td>3.4</td><td>2.5</td></tr>\n",
       "\t<tr><td>2  </td><td>2  </td><td>1  </td><td>4  </td><td>2  </td><td>3.3</td><td>2.8</td><td>2.8</td></tr>\n",
       "\t<tr><td>2  </td><td>2  </td><td>1  </td><td>4  </td><td>3  </td><td>3.0</td><td>3.0</td><td>2.8</td></tr>\n",
       "\t<tr><td>2  </td><td>2  </td><td>1  </td><td>4  </td><td>4  </td><td>3.5</td><td>3.2</td><td>3.1</td></tr>\n",
       "\t<tr><td>2  </td><td>2  </td><td>1  </td><td>4  </td><td>5  </td><td>3.4</td><td>3.0</td><td>2.8</td></tr>\n",
       "\t<tr><td>2  </td><td>2  </td><td>2  </td><td>1  </td><td>1  </td><td>2.7</td><td>2.5</td><td>2.5</td></tr>\n",
       "\t<tr><td>2  </td><td>2  </td><td>2  </td><td>1  </td><td>2  </td><td>2.5</td><td>2.7</td><td>2.3</td></tr>\n",
       "\t<tr><td>2  </td><td>2  </td><td>2  </td><td>1  </td><td>3  </td><td>3.2</td><td>2.7</td><td>3.0</td></tr>\n",
       "\t<tr><td>2  </td><td>2  </td><td>2  </td><td>1  </td><td>4  </td><td>2.4</td><td>2.7</td><td>2.5</td></tr>\n",
       "\t<tr><td>2  </td><td>2  </td><td>2  </td><td>1  </td><td>5  </td><td>2.7</td><td>2.1</td><td>2.3</td></tr>\n",
       "\t<tr><td>2  </td><td>2  </td><td>2  </td><td>2  </td><td>1  </td><td>2.2</td><td>2.7</td><td>2.3</td></tr>\n",
       "\t<tr><td>2  </td><td>2  </td><td>2  </td><td>2  </td><td>2  </td><td>3.1</td><td>2.9</td><td>2.6</td></tr>\n",
       "\t<tr><td>2  </td><td>2  </td><td>2  </td><td>2  </td><td>3  </td><td>2.2</td><td>2.8</td><td>3.1</td></tr>\n",
       "\t<tr><td>2  </td><td>2  </td><td>2  </td><td>2  </td><td>4  </td><td>2.9</td><td>3.0</td><td>2.7</td></tr>\n",
       "\t<tr><td>2  </td><td>2  </td><td>2  </td><td>2  </td><td>5  </td><td>2.8</td><td>2.7</td><td>2.6</td></tr>\n",
       "\t<tr><td>2  </td><td>2  </td><td>2  </td><td>3  </td><td>1  </td><td>2.5</td><td>3.2</td><td>2.3</td></tr>\n",
       "\t<tr><td>2  </td><td>2  </td><td>2  </td><td>3  </td><td>2  </td><td>2.9</td><td>3.3</td><td>2.7</td></tr>\n",
       "\t<tr><td>2  </td><td>2  </td><td>2  </td><td>3  </td><td>3  </td><td>2.5</td><td>3.1</td><td>2.5</td></tr>\n",
       "\t<tr><td>2  </td><td>2  </td><td>2  </td><td>3  </td><td>4  </td><td>3.0</td><td>2.9</td><td>2.5</td></tr>\n",
       "\t<tr><td>2  </td><td>2  </td><td>2  </td><td>3  </td><td>5  </td><td>2.9</td><td>3.1</td><td>3.1</td></tr>\n",
       "\t<tr><td>2  </td><td>2  </td><td>2  </td><td>4  </td><td>1  </td><td>2.7</td><td>3.3</td><td>2.6</td></tr>\n",
       "\t<tr><td>2  </td><td>2  </td><td>2  </td><td>4  </td><td>2  </td><td>2.6</td><td>2.8</td><td>2.3</td></tr>\n",
       "\t<tr><td>2  </td><td>2  </td><td>2  </td><td>4  </td><td>3  </td><td>2.5</td><td>3.1</td><td>2.6</td></tr>\n",
       "\t<tr><td>2  </td><td>2  </td><td>2  </td><td>4  </td><td>4  </td><td>3.4</td><td>3.3</td><td>3.0</td></tr>\n",
       "\t<tr><td>2  </td><td>2  </td><td>2  </td><td>4  </td><td>5  </td><td>2.5</td><td>2.8</td><td>2.3</td></tr>\n",
       "</tbody>\n",
       "</table>\n"
      ],
      "text/latex": [
       "\\begin{tabular}{r|llllllll}\n",
       " area & temp & size & storage & method & texture & flavor & moistness\\\\\n",
       "\\hline\n",
       "\t 1   & 1   & 1   & 1   & 1   & 2.9 & 3.2 & 3.0\\\\\n",
       "\t 1   & 1   & 1   & 1   & 2   & 2.3 & 2.5 & 2.6\\\\\n",
       "\t 1   & 1   & 1   & 1   & 3   & 2.5 & 2.8 & 2.8\\\\\n",
       "\t 1   & 1   & 1   & 1   & 4   & 2.1 & 2.9 & 2.4\\\\\n",
       "\t 1   & 1   & 1   & 1   & 5   & 1.9 & 2.8 & 2.2\\\\\n",
       "\t 1   & 1   & 1   & 2   & 1   & 1.8 & 3.0 & 1.7\\\\\n",
       "\t 1   & 1   & 1   & 2   & 2   & 2.6 & 3.1 & 2.4\\\\\n",
       "\t 1   & 1   & 1   & 2   & 3   & 3.0 & 3.0 & 2.9\\\\\n",
       "\t 1   & 1   & 1   & 2   & 4   & 2.2 & 3.2 & 2.5\\\\\n",
       "\t 1   & 1   & 1   & 2   & 5   & 2.0 & 2.8 & 1.9\\\\\n",
       "\t 1   & 1   & 1   & 3   & 1   & 1.8 & 2.6 & 1.5\\\\\n",
       "\t 1   & 1   & 1   & 3   & 2   & 2.0 & 2.8 & 1.9\\\\\n",
       "\t 1   & 1   & 1   & 3   & 3   & 2.6 & 2.6 & 2.6\\\\\n",
       "\t 1   & 1   & 1   & 3   & 4   & 2.1 & 3.2 & 2.1\\\\\n",
       "\t 1   & 1   & 1   & 3   & 5   & 2.5 & 3.0 & 2.1\\\\\n",
       "\t 1   & 1   & 1   & 4   & 1   & 2.6 & 3.1 & 2.4\\\\\n",
       "\t 1   & 1   & 1   & 4   & 2   & 2.7 & 2.9 & 2.4\\\\\n",
       "\t 1   & 1   & 1   & 4   & 3   & 2.2 & 3.1 & 2.3\\\\\n",
       "\t 1   & 1   & 1   & 4   & 4   & 3.1 & 3.4 & 2.7\\\\\n",
       "\t 1   & 1   & 1   & 4   & 5   & 3.0 & 2.6 & 2.7\\\\\n",
       "\t 1   & 1   & 2   & 1   & 1   & 3.1 & 3.0 & 2.8\\\\\n",
       "\t 1   & 1   & 2   & 1   & 2   & 2.7 & 2.8 & 2.7\\\\\n",
       "\t 1   & 1   & 2   & 1   & 3   & 2.4 & 3.0 & 2.9\\\\\n",
       "\t 1   & 1   & 2   & 1   & 4   & 2.2 & 2.9 & 2.3\\\\\n",
       "\t 1   & 1   & 2   & 1   & 5   & 1.9 & 2.9 & 2.0\\\\\n",
       "\t 1   & 1   & 2   & 2   & 1   & 1.8 & 2.6 & 1.8\\\\\n",
       "\t 1   & 1   & 2   & 2   & 2   & 2.2 & 2.9 & 2.1\\\\\n",
       "\t 1   & 1   & 2   & 2   & 3   & 2.8 & 3.2 & 2.8\\\\\n",
       "\t 1   & 1   & 2   & 2   & 4   & 2.3 & 3.2 & 2.4\\\\\n",
       "\t 1   & 1   & 2   & 2   & 5   & 2.0 & 3.0 & 2.0\\\\\n",
       "\t ... & ... & ... & ... & ... & ... & ... & ...\\\\\n",
       "\t 2   & 2   & 1   & 3   & 1   & 2.8 & 2.8 & 2.6\\\\\n",
       "\t 2   & 2   & 1   & 3   & 2   & 3.5 & 2.8 & 3.0\\\\\n",
       "\t 2   & 2   & 1   & 3   & 3   & 2.5 & 3.2 & 2.3\\\\\n",
       "\t 2   & 2   & 1   & 3   & 4   & 3.3 & 3.0 & 2.7\\\\\n",
       "\t 2   & 2   & 1   & 3   & 5   & 3.5 & 2.9 & 2.9\\\\\n",
       "\t 2   & 2   & 1   & 4   & 1   & 3.2 & 3.4 & 2.5\\\\\n",
       "\t 2   & 2   & 1   & 4   & 2   & 3.3 & 2.8 & 2.8\\\\\n",
       "\t 2   & 2   & 1   & 4   & 3   & 3.0 & 3.0 & 2.8\\\\\n",
       "\t 2   & 2   & 1   & 4   & 4   & 3.5 & 3.2 & 3.1\\\\\n",
       "\t 2   & 2   & 1   & 4   & 5   & 3.4 & 3.0 & 2.8\\\\\n",
       "\t 2   & 2   & 2   & 1   & 1   & 2.7 & 2.5 & 2.5\\\\\n",
       "\t 2   & 2   & 2   & 1   & 2   & 2.5 & 2.7 & 2.3\\\\\n",
       "\t 2   & 2   & 2   & 1   & 3   & 3.2 & 2.7 & 3.0\\\\\n",
       "\t 2   & 2   & 2   & 1   & 4   & 2.4 & 2.7 & 2.5\\\\\n",
       "\t 2   & 2   & 2   & 1   & 5   & 2.7 & 2.1 & 2.3\\\\\n",
       "\t 2   & 2   & 2   & 2   & 1   & 2.2 & 2.7 & 2.3\\\\\n",
       "\t 2   & 2   & 2   & 2   & 2   & 3.1 & 2.9 & 2.6\\\\\n",
       "\t 2   & 2   & 2   & 2   & 3   & 2.2 & 2.8 & 3.1\\\\\n",
       "\t 2   & 2   & 2   & 2   & 4   & 2.9 & 3.0 & 2.7\\\\\n",
       "\t 2   & 2   & 2   & 2   & 5   & 2.8 & 2.7 & 2.6\\\\\n",
       "\t 2   & 2   & 2   & 3   & 1   & 2.5 & 3.2 & 2.3\\\\\n",
       "\t 2   & 2   & 2   & 3   & 2   & 2.9 & 3.3 & 2.7\\\\\n",
       "\t 2   & 2   & 2   & 3   & 3   & 2.5 & 3.1 & 2.5\\\\\n",
       "\t 2   & 2   & 2   & 3   & 4   & 3.0 & 2.9 & 2.5\\\\\n",
       "\t 2   & 2   & 2   & 3   & 5   & 2.9 & 3.1 & 3.1\\\\\n",
       "\t 2   & 2   & 2   & 4   & 1   & 2.7 & 3.3 & 2.6\\\\\n",
       "\t 2   & 2   & 2   & 4   & 2   & 2.6 & 2.8 & 2.3\\\\\n",
       "\t 2   & 2   & 2   & 4   & 3   & 2.5 & 3.1 & 2.6\\\\\n",
       "\t 2   & 2   & 2   & 4   & 4   & 3.4 & 3.3 & 3.0\\\\\n",
       "\t 2   & 2   & 2   & 4   & 5   & 2.5 & 2.8 & 2.3\\\\\n",
       "\\end{tabular}\n"
      ],
      "text/markdown": [
       "\n",
       "| area | temp | size | storage | method | texture | flavor | moistness |\n",
       "|---|---|---|---|---|---|---|---|\n",
       "| 1   | 1   | 1   | 1   | 1   | 2.9 | 3.2 | 3.0 |\n",
       "| 1   | 1   | 1   | 1   | 2   | 2.3 | 2.5 | 2.6 |\n",
       "| 1   | 1   | 1   | 1   | 3   | 2.5 | 2.8 | 2.8 |\n",
       "| 1   | 1   | 1   | 1   | 4   | 2.1 | 2.9 | 2.4 |\n",
       "| 1   | 1   | 1   | 1   | 5   | 1.9 | 2.8 | 2.2 |\n",
       "| 1   | 1   | 1   | 2   | 1   | 1.8 | 3.0 | 1.7 |\n",
       "| 1   | 1   | 1   | 2   | 2   | 2.6 | 3.1 | 2.4 |\n",
       "| 1   | 1   | 1   | 2   | 3   | 3.0 | 3.0 | 2.9 |\n",
       "| 1   | 1   | 1   | 2   | 4   | 2.2 | 3.2 | 2.5 |\n",
       "| 1   | 1   | 1   | 2   | 5   | 2.0 | 2.8 | 1.9 |\n",
       "| 1   | 1   | 1   | 3   | 1   | 1.8 | 2.6 | 1.5 |\n",
       "| 1   | 1   | 1   | 3   | 2   | 2.0 | 2.8 | 1.9 |\n",
       "| 1   | 1   | 1   | 3   | 3   | 2.6 | 2.6 | 2.6 |\n",
       "| 1   | 1   | 1   | 3   | 4   | 2.1 | 3.2 | 2.1 |\n",
       "| 1   | 1   | 1   | 3   | 5   | 2.5 | 3.0 | 2.1 |\n",
       "| 1   | 1   | 1   | 4   | 1   | 2.6 | 3.1 | 2.4 |\n",
       "| 1   | 1   | 1   | 4   | 2   | 2.7 | 2.9 | 2.4 |\n",
       "| 1   | 1   | 1   | 4   | 3   | 2.2 | 3.1 | 2.3 |\n",
       "| 1   | 1   | 1   | 4   | 4   | 3.1 | 3.4 | 2.7 |\n",
       "| 1   | 1   | 1   | 4   | 5   | 3.0 | 2.6 | 2.7 |\n",
       "| 1   | 1   | 2   | 1   | 1   | 3.1 | 3.0 | 2.8 |\n",
       "| 1   | 1   | 2   | 1   | 2   | 2.7 | 2.8 | 2.7 |\n",
       "| 1   | 1   | 2   | 1   | 3   | 2.4 | 3.0 | 2.9 |\n",
       "| 1   | 1   | 2   | 1   | 4   | 2.2 | 2.9 | 2.3 |\n",
       "| 1   | 1   | 2   | 1   | 5   | 1.9 | 2.9 | 2.0 |\n",
       "| 1   | 1   | 2   | 2   | 1   | 1.8 | 2.6 | 1.8 |\n",
       "| 1   | 1   | 2   | 2   | 2   | 2.2 | 2.9 | 2.1 |\n",
       "| 1   | 1   | 2   | 2   | 3   | 2.8 | 3.2 | 2.8 |\n",
       "| 1   | 1   | 2   | 2   | 4   | 2.3 | 3.2 | 2.4 |\n",
       "| 1   | 1   | 2   | 2   | 5   | 2.0 | 3.0 | 2.0 |\n",
       "| ... | ... | ... | ... | ... | ... | ... | ... |\n",
       "| 2   | 2   | 1   | 3   | 1   | 2.8 | 2.8 | 2.6 |\n",
       "| 2   | 2   | 1   | 3   | 2   | 3.5 | 2.8 | 3.0 |\n",
       "| 2   | 2   | 1   | 3   | 3   | 2.5 | 3.2 | 2.3 |\n",
       "| 2   | 2   | 1   | 3   | 4   | 3.3 | 3.0 | 2.7 |\n",
       "| 2   | 2   | 1   | 3   | 5   | 3.5 | 2.9 | 2.9 |\n",
       "| 2   | 2   | 1   | 4   | 1   | 3.2 | 3.4 | 2.5 |\n",
       "| 2   | 2   | 1   | 4   | 2   | 3.3 | 2.8 | 2.8 |\n",
       "| 2   | 2   | 1   | 4   | 3   | 3.0 | 3.0 | 2.8 |\n",
       "| 2   | 2   | 1   | 4   | 4   | 3.5 | 3.2 | 3.1 |\n",
       "| 2   | 2   | 1   | 4   | 5   | 3.4 | 3.0 | 2.8 |\n",
       "| 2   | 2   | 2   | 1   | 1   | 2.7 | 2.5 | 2.5 |\n",
       "| 2   | 2   | 2   | 1   | 2   | 2.5 | 2.7 | 2.3 |\n",
       "| 2   | 2   | 2   | 1   | 3   | 3.2 | 2.7 | 3.0 |\n",
       "| 2   | 2   | 2   | 1   | 4   | 2.4 | 2.7 | 2.5 |\n",
       "| 2   | 2   | 2   | 1   | 5   | 2.7 | 2.1 | 2.3 |\n",
       "| 2   | 2   | 2   | 2   | 1   | 2.2 | 2.7 | 2.3 |\n",
       "| 2   | 2   | 2   | 2   | 2   | 3.1 | 2.9 | 2.6 |\n",
       "| 2   | 2   | 2   | 2   | 3   | 2.2 | 2.8 | 3.1 |\n",
       "| 2   | 2   | 2   | 2   | 4   | 2.9 | 3.0 | 2.7 |\n",
       "| 2   | 2   | 2   | 2   | 5   | 2.8 | 2.7 | 2.6 |\n",
       "| 2   | 2   | 2   | 3   | 1   | 2.5 | 3.2 | 2.3 |\n",
       "| 2   | 2   | 2   | 3   | 2   | 2.9 | 3.3 | 2.7 |\n",
       "| 2   | 2   | 2   | 3   | 3   | 2.5 | 3.1 | 2.5 |\n",
       "| 2   | 2   | 2   | 3   | 4   | 3.0 | 2.9 | 2.5 |\n",
       "| 2   | 2   | 2   | 3   | 5   | 2.9 | 3.1 | 3.1 |\n",
       "| 2   | 2   | 2   | 4   | 1   | 2.7 | 3.3 | 2.6 |\n",
       "| 2   | 2   | 2   | 4   | 2   | 2.6 | 2.8 | 2.3 |\n",
       "| 2   | 2   | 2   | 4   | 3   | 2.5 | 3.1 | 2.6 |\n",
       "| 2   | 2   | 2   | 4   | 4   | 3.4 | 3.3 | 3.0 |\n",
       "| 2   | 2   | 2   | 4   | 5   | 2.5 | 2.8 | 2.3 |\n",
       "\n"
      ],
      "text/plain": [
       "    area temp size storage method texture flavor moistness\n",
       "1   1    1    1    1       1      2.9     3.2    3.0      \n",
       "2   1    1    1    1       2      2.3     2.5    2.6      \n",
       "3   1    1    1    1       3      2.5     2.8    2.8      \n",
       "4   1    1    1    1       4      2.1     2.9    2.4      \n",
       "5   1    1    1    1       5      1.9     2.8    2.2      \n",
       "6   1    1    1    2       1      1.8     3.0    1.7      \n",
       "7   1    1    1    2       2      2.6     3.1    2.4      \n",
       "8   1    1    1    2       3      3.0     3.0    2.9      \n",
       "9   1    1    1    2       4      2.2     3.2    2.5      \n",
       "10  1    1    1    2       5      2.0     2.8    1.9      \n",
       "11  1    1    1    3       1      1.8     2.6    1.5      \n",
       "12  1    1    1    3       2      2.0     2.8    1.9      \n",
       "13  1    1    1    3       3      2.6     2.6    2.6      \n",
       "14  1    1    1    3       4      2.1     3.2    2.1      \n",
       "15  1    1    1    3       5      2.5     3.0    2.1      \n",
       "16  1    1    1    4       1      2.6     3.1    2.4      \n",
       "17  1    1    1    4       2      2.7     2.9    2.4      \n",
       "18  1    1    1    4       3      2.2     3.1    2.3      \n",
       "19  1    1    1    4       4      3.1     3.4    2.7      \n",
       "20  1    1    1    4       5      3.0     2.6    2.7      \n",
       "21  1    1    2    1       1      3.1     3.0    2.8      \n",
       "22  1    1    2    1       2      2.7     2.8    2.7      \n",
       "23  1    1    2    1       3      2.4     3.0    2.9      \n",
       "24  1    1    2    1       4      2.2     2.9    2.3      \n",
       "25  1    1    2    1       5      1.9     2.9    2.0      \n",
       "26  1    1    2    2       1      1.8     2.6    1.8      \n",
       "27  1    1    2    2       2      2.2     2.9    2.1      \n",
       "28  1    1    2    2       3      2.8     3.2    2.8      \n",
       "29  1    1    2    2       4      2.3     3.2    2.4      \n",
       "30  1    1    2    2       5      2.0     3.0    2.0      \n",
       "... ...  ...  ...  ...     ...    ...     ...    ...      \n",
       "131 2    2    1    3       1      2.8     2.8    2.6      \n",
       "132 2    2    1    3       2      3.5     2.8    3.0      \n",
       "133 2    2    1    3       3      2.5     3.2    2.3      \n",
       "134 2    2    1    3       4      3.3     3.0    2.7      \n",
       "135 2    2    1    3       5      3.5     2.9    2.9      \n",
       "136 2    2    1    4       1      3.2     3.4    2.5      \n",
       "137 2    2    1    4       2      3.3     2.8    2.8      \n",
       "138 2    2    1    4       3      3.0     3.0    2.8      \n",
       "139 2    2    1    4       4      3.5     3.2    3.1      \n",
       "140 2    2    1    4       5      3.4     3.0    2.8      \n",
       "141 2    2    2    1       1      2.7     2.5    2.5      \n",
       "142 2    2    2    1       2      2.5     2.7    2.3      \n",
       "143 2    2    2    1       3      3.2     2.7    3.0      \n",
       "144 2    2    2    1       4      2.4     2.7    2.5      \n",
       "145 2    2    2    1       5      2.7     2.1    2.3      \n",
       "146 2    2    2    2       1      2.2     2.7    2.3      \n",
       "147 2    2    2    2       2      3.1     2.9    2.6      \n",
       "148 2    2    2    2       3      2.2     2.8    3.1      \n",
       "149 2    2    2    2       4      2.9     3.0    2.7      \n",
       "150 2    2    2    2       5      2.8     2.7    2.6      \n",
       "151 2    2    2    3       1      2.5     3.2    2.3      \n",
       "152 2    2    2    3       2      2.9     3.3    2.7      \n",
       "153 2    2    2    3       3      2.5     3.1    2.5      \n",
       "154 2    2    2    3       4      3.0     2.9    2.5      \n",
       "155 2    2    2    3       5      2.9     3.1    3.1      \n",
       "156 2    2    2    4       1      2.7     3.3    2.6      \n",
       "157 2    2    2    4       2      2.6     2.8    2.3      \n",
       "158 2    2    2    4       3      2.5     3.1    2.6      \n",
       "159 2    2    2    4       4      3.4     3.3    3.0      \n",
       "160 2    2    2    4       5      2.5     2.8    2.3      "
      ]
     },
     "metadata": {},
     "output_type": "display_data"
    }
   ],
   "source": [
    "# Load the readr package\n",
    "library(readr)\n",
    "\n",
    "# Import the csv file: pools\n",
    "url_csv <- \"http://s3.amazonaws.com/assets.datacamp.com/production/course_1478/datasets/swimming_pools.csv\"\n",
    "pools = read_csv(url_csv)\n",
    "\n",
    "# Import the txt file: potatoes\n",
    "url_delim <- \"http://s3.amazonaws.com/assets.datacamp.com/production/course_1478/datasets/potatoes.txt\"\n",
    "potatoes = read_tsv(url_delim)\n",
    "\n",
    "# Print pools and potatoes\n",
    "pools\n",
    "potatoes"
   ]
  },
  {
   "cell_type": "markdown",
   "metadata": {},
   "source": [
    "## Secure importing\n"
   ]
  },
  {
   "cell_type": "code",
   "execution_count": 5,
   "metadata": {},
   "outputs": [
    {
     "name": "stderr",
     "output_type": "stream",
     "text": [
      "`curl` package not installed, falling back to using `url()`\n",
      "Parsed with column specification:\n",
      "cols(\n",
      "  Name = col_character(),\n",
      "  Address = col_character(),\n",
      "  Latitude = col_double(),\n",
      "  Longitude = col_double()\n",
      ")\n"
     ]
    },
    {
     "name": "stdout",
     "output_type": "stream",
     "text": [
      "'data.frame':\t20 obs. of  4 variables:\n",
      " $ Name     : Factor w/ 20 levels \"Acacia Ridge Leisure Centre\",..: 1 2 3 4 5 6 19 7 8 9 ...\n",
      " $ Address  : Factor w/ 20 levels \"1 Fairlead Crescent, Manly\",..: 5 20 18 10 9 11 6 15 12 17 ...\n",
      " $ Latitude : num  -27.6 -27.6 -27.6 -27.5 -27.4 ...\n",
      " $ Longitude: num  153 153 153 153 153 ...\n",
      "tibble [20 x 4] (S3: spec_tbl_df/tbl_df/tbl/data.frame)\n",
      " $ Name     : chr [1:20] \"Acacia Ridge Leisure Centre\" \"Bellbowrie Pool\" \"Carole Park\" \"Centenary Pool (inner City)\" ...\n",
      " $ Address  : chr [1:20] \"1391 Beaudesert Road, Acacia Ridge\" \"Sugarwood Street, Bellbowrie\" \"Cnr Boundary Road and Waterford Road Wacol\" \"400 Gregory Terrace, Spring Hill\" ...\n",
      " $ Latitude : num [1:20] -27.6 -27.6 -27.6 -27.5 -27.4 ...\n",
      " $ Longitude: num [1:20] 153 153 153 153 153 ...\n",
      " - attr(*, \"spec\")=\n",
      "  .. cols(\n",
      "  ..   Name = col_character(),\n",
      "  ..   Address = col_character(),\n",
      "  ..   Latitude = col_double(),\n",
      "  ..   Longitude = col_double()\n",
      "  .. )\n"
     ]
    }
   ],
   "source": [
    "# https URL to the swimming_pools csv file.\n",
    "url_csv <- \"https://s3.amazonaws.com/assets.datacamp.com/production/course_1478/datasets/swimming_pools.csv\"\n",
    "\n",
    "# Import the file using read.csv(): pools1\n",
    "pools1 = read.csv(url_csv)\n",
    "\n",
    "# Load the readr package\n",
    "library(readr)\n",
    "\n",
    "# Import the file using read_csv(): pools2\n",
    "pools2=read_csv(url_csv)\n",
    "\n",
    "# Print the structure of pools1 and pools2\n",
    "str(pools1)\n",
    "str(pools2)\n"
   ]
  },
  {
   "cell_type": "markdown",
   "metadata": {},
   "source": [
    "## Downloading any file, secure or not"
   ]
  },
  {
   "cell_type": "code",
   "execution_count": 6,
   "metadata": {},
   "outputs": [
    {
     "data": {
      "text/plain": [
       "    Alcohol        Malic acid        Ash        Alcalinity of ash\n",
       " Min.   :11.03   Min.   :0.74   Min.   :1.360   Min.   :10.60    \n",
       " 1st Qu.:12.36   1st Qu.:1.60   1st Qu.:2.210   1st Qu.:17.20    \n",
       " Median :13.05   Median :1.87   Median :2.360   Median :19.50    \n",
       " Mean   :12.99   Mean   :2.34   Mean   :2.366   Mean   :19.52    \n",
       " 3rd Qu.:13.67   3rd Qu.:3.10   3rd Qu.:2.560   3rd Qu.:21.50    \n",
       " Max.   :14.83   Max.   :5.80   Max.   :3.230   Max.   :30.00    \n",
       "   Magnesium      Total phenols     Flavanoids    Nonflavanoid phenols\n",
       " Min.   : 70.00   Min.   :0.980   Min.   :0.340   Min.   :0.1300      \n",
       " 1st Qu.: 88.00   1st Qu.:1.740   1st Qu.:1.200   1st Qu.:0.2700      \n",
       " Median : 98.00   Median :2.350   Median :2.130   Median :0.3400      \n",
       " Mean   : 99.59   Mean   :2.292   Mean   :2.023   Mean   :0.3623      \n",
       " 3rd Qu.:107.00   3rd Qu.:2.800   3rd Qu.:2.860   3rd Qu.:0.4400      \n",
       " Max.   :162.00   Max.   :3.880   Max.   :5.080   Max.   :0.6600      \n",
       " Proanthocyanins Color intensity       Hue           Proline      \n",
       " Min.   :0.410   Min.   : 1.280   Min.   :1.270   Min.   : 278.0  \n",
       " 1st Qu.:1.250   1st Qu.: 3.210   1st Qu.:1.930   1st Qu.: 500.0  \n",
       " Median :1.550   Median : 4.680   Median :2.780   Median : 672.0  \n",
       " Mean   :1.587   Mean   : 5.055   Mean   :2.604   Mean   : 745.1  \n",
       " 3rd Qu.:1.950   3rd Qu.: 6.200   3rd Qu.:3.170   3rd Qu.: 985.0  \n",
       " Max.   :3.580   Max.   :13.000   Max.   :4.000   Max.   :1680.0  "
      ]
     },
     "metadata": {},
     "output_type": "display_data"
    }
   ],
   "source": [
    "# https URL to the wine RData file.\n",
    "url_rdata <- \"https://s3.amazonaws.com/assets.datacamp.com/production/course_1478/datasets/wine.RData\"\n",
    "\n",
    "# Download the wine file to your working directory\n",
    "download.file(url_rdata, \"wine_local.RData\")\n",
    "\n",
    "# Load the wine data into your workspace using load()\n",
    "load(\"wine_local.RData\")\n",
    "\n",
    "# Print out the summary of the wine data\n",
    "summary(wine)"
   ]
  },
  {
   "cell_type": "code",
   "execution_count": 10,
   "metadata": {},
   "outputs": [
    {
     "name": "stderr",
     "output_type": "stream",
     "text": [
      "also installing the dependencies 'curl', 'mime', 'openssl'\n",
      "\n",
      "Warning message in download.file(url, destfile, method, mode = \"wb\", ...):\n",
      "\"InternetOpenUrl failed: 'The server name or address could not be resolved'\""
     ]
    },
    {
     "name": "stdout",
     "output_type": "stream",
     "text": [
      "Error in download.file(url, destfile, method, mode = \"wb\", ...) : \n",
      "  cannot open URL 'https://cran.r-project.org/bin/windows/contrib/3.6/curl_4.3.zip'\n"
     ]
    },
    {
     "name": "stderr",
     "output_type": "stream",
     "text": [
      "Warning message in download.packages(pkgs, destdir = tmpd, available = available, :\n",
      "\"download of package 'curl' failed\"Warning message in download.file(url, destfile, method, mode = \"wb\", ...):\n",
      "\"InternetOpenUrl failed: 'The server name or address could not be resolved'\""
     ]
    },
    {
     "name": "stdout",
     "output_type": "stream",
     "text": [
      "Error in download.file(url, destfile, method, mode = \"wb\", ...) : \n",
      "  cannot open URL 'https://cran.r-project.org/bin/windows/contrib/3.6/mime_0.9.zip'\n"
     ]
    },
    {
     "name": "stderr",
     "output_type": "stream",
     "text": [
      "Warning message in download.packages(pkgs, destdir = tmpd, available = available, :\n",
      "\"download of package 'mime' failed\"Warning message in download.file(url, destfile, method, mode = \"wb\", ...):\n",
      "\"InternetOpenUrl failed: 'The server name or address could not be resolved'\""
     ]
    },
    {
     "name": "stdout",
     "output_type": "stream",
     "text": [
      "Error in download.file(url, destfile, method, mode = \"wb\", ...) : \n",
      "  cannot open URL 'https://cran.r-project.org/bin/windows/contrib/3.6/openssl_1.4.1.zip'\n"
     ]
    },
    {
     "name": "stderr",
     "output_type": "stream",
     "text": [
      "Warning message in download.packages(pkgs, destdir = tmpd, available = available, :\n",
      "\"download of package 'openssl' failed\"Warning message in download.file(url, destfile, method, mode = \"wb\", ...):\n",
      "\"InternetOpenUrl failed: 'The server name or address could not be resolved'\""
     ]
    },
    {
     "name": "stdout",
     "output_type": "stream",
     "text": [
      "Error in download.file(url, destfile, method, mode = \"wb\", ...) : \n",
      "  cannot open URL 'https://cran.r-project.org/bin/windows/contrib/3.6/httr_1.4.1.zip'\n"
     ]
    },
    {
     "name": "stderr",
     "output_type": "stream",
     "text": [
      "Warning message in download.packages(pkgs, destdir = tmpd, available = available, :\n",
      "\"download of package 'httr' failed\""
     ]
    }
   ],
   "source": [
    "install.packages(\"httr\")"
   ]
  },
  {
   "cell_type": "code",
   "execution_count": 8,
   "metadata": {},
   "outputs": [
    {
     "ename": "ERROR",
     "evalue": "Error in library(httr): there is no package called 'httr'\n",
     "output_type": "error",
     "traceback": [
      "Error in library(httr): there is no package called 'httr'\nTraceback:\n",
      "1. library(httr)"
     ]
    }
   ],
   "source": [
    "library(httr)\n",
    "resp = GET(\"http://www.example.com\")\n",
    "resp\n",
    "raw_content = content(resp, as=\"raw\")\n",
    "head(raw_content)"
   ]
  },
  {
   "cell_type": "markdown",
   "metadata": {},
   "source": [
    "## HTTP? httr! (2)"
   ]
  },
  {
   "cell_type": "code",
   "execution_count": null,
   "metadata": {},
   "outputs": [],
   "source": [
    "resp = GET(\"http://www.omdbapi.com/?apikey=72bc447a&t=Annie+Hall&y=&plot=short&r=json\")\n",
    "resp\n",
    "content(resp, as=\"text\")\n",
    "content(resp)"
   ]
  },
  {
   "cell_type": "code",
   "execution_count": null,
   "metadata": {},
   "outputs": [],
   "source": []
  }
 ],
 "metadata": {
  "kernelspec": {
   "display_name": "R",
   "language": "R",
   "name": "ir"
  },
  "language_info": {
   "codemirror_mode": "r",
   "file_extension": ".r",
   "mimetype": "text/x-r-source",
   "name": "R",
   "pygments_lexer": "r",
   "version": "3.6.1"
  }
 },
 "nbformat": 4,
 "nbformat_minor": 4
}
