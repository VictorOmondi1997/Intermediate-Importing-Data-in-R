{
 "cells": [
  {
   "cell_type": "markdown",
   "metadata": {},
   "source": [
    "# Importing data from statistical software packages\n",
    "\n",
    "there are also other commonly used statistical software packages: SAS, STATA and SPSS. Each of them has their own file format. \n",
    "\n",
    "## haven\n",
    "\n",
    "`haven` is an extremely easy-to-use package to import data from three software packages: SAS, STATA and SPSS. Depending on the software, you use different functions:\n",
    "\n",
    "* **SAS:** `read_sas()`\n",
    "* **STATA:** `read_dta()` (or `read_stata()`, which are identical)\n",
    "* **SPSS:** `read_sav()` or `read_por()`, depending on the file type.\n",
    "\n",
    "We'll be working with data on the age, gender, income, and purchase level (0 = low, 1 = high) of 36 individuals (Source: SAS). The information is stored in a SAS file, `sales.sas7bdat`, which is available in your current working directory. You can also download the data [here](http://s3.amazonaws.com/assets.datacamp.com/production/course_1478/datasets/sales.sas7bdat)."
   ]
  },
  {
   "cell_type": "markdown",
   "metadata": {},
   "source": [
    "### Import SAS with haven"
   ]
  },
  {
   "cell_type": "code",
   "execution_count": 1,
   "metadata": {},
   "outputs": [
    {
     "name": "stderr",
     "output_type": "stream",
     "text": [
      "Warning message:\n",
      "\"package 'haven' was built under R version 3.6.3\""
     ]
    },
    {
     "name": "stdout",
     "output_type": "stream",
     "text": [
      "tibble [431 x 4] (S3: tbl_df/tbl/data.frame)\n",
      " $ purchase: num [1:431] 0 0 1 1 0 0 0 0 0 0 ...\n",
      " $ age     : num [1:431] 41 47 41 39 32 32 33 45 43 40 ...\n",
      " $ gender  : chr [1:431] \"Female\" \"Female\" \"Female\" \"Female\" ...\n",
      " $ income  : chr [1:431] \"Low\" \"Low\" \"Low\" \"Low\" ...\n",
      " - attr(*, \"label\")= chr \"SALES\"\n"
     ]
    }
   ],
   "source": [
    "library(haven)\n",
    "sales = read_sas(\"http://s3.amazonaws.com/assets.datacamp.com/production/course_1478/datasets/sales.sas7bdat\")\n",
    "str(sales)"
   ]
  },
  {
   "cell_type": "code",
   "execution_count": 2,
   "metadata": {},
   "outputs": [
    {
     "name": "stdout",
     "output_type": "stream",
     "text": [
      "# A tibble: 431 x 4\n",
      "   purchase   age gender income\n",
      "      <dbl> <dbl> <chr>  <chr> \n",
      " 1        0    41 Female Low   \n",
      " 2        0    47 Female Low   \n",
      " 3        1    41 Female Low   \n",
      " 4        1    39 Female Low   \n",
      " 5        0    32 Female Low   \n",
      " 6        0    32 Female Low   \n",
      " 7        0    33 Female Low   \n",
      " 8        0    45 Female Low   \n",
      " 9        0    43 Female Low   \n",
      "10        0    40 Female Low   \n",
      "# ... with 421 more rows\n"
     ]
    }
   ],
   "source": [
    "print(sales)"
   ]
  },
  {
   "cell_type": "markdown",
   "metadata": {},
   "source": [
    "### Import STATA data with haven\n",
    "\n",
    "you can use `read_dta()`\n",
    "\n",
    "The data is on yearly import and export numbers of sugar, both in USD and in weight. The data can be found at: http://assets.datacamp.com/production/course_1478/datasets/trade.dta"
   ]
  },
  {
   "cell_type": "code",
   "execution_count": 3,
   "metadata": {},
   "outputs": [
    {
     "name": "stdout",
     "output_type": "stream",
     "text": [
      "tibble [10 x 5] (S3: tbl_df/tbl/data.frame)\n",
      " $ Date    : dbl+lbl [1:10] 10,  9,  8,  7,  6,  5,  4,  3,  2,  1\n",
      "   ..@ label       : chr \"Date\"\n",
      "   ..@ format.stata: chr \"%9.0g\"\n",
      "   ..@ labels      : Named num [1:10] 1 2 3 4 5 6 7 8 9 10\n",
      "   .. ..- attr(*, \"names\")= chr [1:10] \"2004-12-31\" \"2005-12-31\" \"2006-12-31\" \"2007-12-31\" ...\n",
      " $ Import  : num [1:10] 37664782 16316512 11082246 35677943 9879878 ...\n",
      "  ..- attr(*, \"label\")= chr \"Import\"\n",
      "  ..- attr(*, \"format.stata\")= chr \"%9.0g\"\n",
      " $ Weight_I: num [1:10] 54029106 21584365 14526089 55034932 14806865 ...\n",
      "  ..- attr(*, \"label\")= chr \"Weight_I\"\n",
      "  ..- attr(*, \"format.stata\")= chr \"%9.0g\"\n",
      " $ Export  : num [1:10] 5.45e+07 1.03e+08 3.79e+07 4.85e+07 7.15e+07 ...\n",
      "  ..- attr(*, \"label\")= chr \"Export\"\n",
      "  ..- attr(*, \"format.stata\")= chr \"%9.0g\"\n",
      " $ Weight_E: num [1:10] 9.34e+07 1.58e+08 8.80e+07 1.12e+08 1.32e+08 ...\n",
      "  ..- attr(*, \"label\")= chr \"Weight_E\"\n",
      "  ..- attr(*, \"format.stata\")= chr \"%9.0g\"\n",
      " - attr(*, \"label\")= chr \"Written by R.\"\n",
      "tibble [10 x 5] (S3: tbl_df/tbl/data.frame)\n",
      " $ Date    : Date[1:10], format: \"2013-12-31\" \"2012-12-31\" ...\n",
      " $ Import  : num [1:10] 37664782 16316512 11082246 35677943 9879878 ...\n",
      "  ..- attr(*, \"label\")= chr \"Import\"\n",
      "  ..- attr(*, \"format.stata\")= chr \"%9.0g\"\n",
      " $ Weight_I: num [1:10] 54029106 21584365 14526089 55034932 14806865 ...\n",
      "  ..- attr(*, \"label\")= chr \"Weight_I\"\n",
      "  ..- attr(*, \"format.stata\")= chr \"%9.0g\"\n",
      " $ Export  : num [1:10] 5.45e+07 1.03e+08 3.79e+07 4.85e+07 7.15e+07 ...\n",
      "  ..- attr(*, \"label\")= chr \"Export\"\n",
      "  ..- attr(*, \"format.stata\")= chr \"%9.0g\"\n",
      " $ Weight_E: num [1:10] 9.34e+07 1.58e+08 8.80e+07 1.12e+08 1.32e+08 ...\n",
      "  ..- attr(*, \"label\")= chr \"Weight_E\"\n",
      "  ..- attr(*, \"format.stata\")= chr \"%9.0g\"\n",
      " - attr(*, \"label\")= chr \"Written by R.\"\n"
     ]
    }
   ],
   "source": [
    "sugar = read_dta(\"http://assets.datacamp.com/production/course_1478/datasets/trade.dta\")\n",
    "str(sugar)\n",
    "sugar$Date = as.Date(as_factor(sugar$Date))\n",
    "str(sugar)"
   ]
  },
  {
   "cell_type": "code",
   "execution_count": 4,
   "metadata": {},
   "outputs": [
    {
     "name": "stdout",
     "output_type": "stream",
     "text": [
      "# A tibble: 10 x 5\n",
      "   Date         Import Weight_I    Export  Weight_E\n",
      "   <date>        <dbl>    <dbl>     <dbl>     <dbl>\n",
      " 1 2013-12-31 37664782 54029106  54505513  93350013\n",
      " 2 2012-12-31 16316512 21584365 102700010 158000010\n",
      " 3 2011-12-31 11082246 14526089  37935000  88000000\n",
      " 4 2010-12-31 35677943 55034932  48515008 112000005\n",
      " 5 2009-12-31  9879878 14806865  71486545 131800000\n",
      " 6 2008-12-31  1539992  1749318  12311696  18500014\n",
      " 7 2007-12-31    28021    54567  16489813  39599944\n",
      " 8 2006-12-31     2652     3821  29273920 102072480\n",
      " 9 2005-12-31  7067402 23722957  46497438 147583380\n",
      "10 2004-12-31  1033672  1964980  27131638  78268792\n"
     ]
    }
   ],
   "source": [
    "print(sugar)"
   ]
  },
  {
   "cell_type": "code",
   "execution_count": 5,
   "metadata": {},
   "outputs": [
    {
     "data": {
      "text/html": [
       "<table>\n",
       "<thead><tr><th scope=col>Date</th><th scope=col>Import</th><th scope=col>Weight_I</th><th scope=col>Export</th><th scope=col>Weight_E</th></tr></thead>\n",
       "<tbody>\n",
       "\t<tr><td>2013-12-31</td><td>37664782  </td><td>54029106  </td><td> 54505513 </td><td> 93350013 </td></tr>\n",
       "\t<tr><td>2012-12-31</td><td>16316512  </td><td>21584365  </td><td>102700010 </td><td>158000010 </td></tr>\n",
       "\t<tr><td>2011-12-31</td><td>11082246  </td><td>14526089  </td><td> 37935000 </td><td> 88000000 </td></tr>\n",
       "\t<tr><td>2010-12-31</td><td>35677943  </td><td>55034932  </td><td> 48515008 </td><td>112000005 </td></tr>\n",
       "\t<tr><td>2009-12-31</td><td> 9879878  </td><td>14806865  </td><td> 71486545 </td><td>131800000 </td></tr>\n",
       "\t<tr><td>2008-12-31</td><td> 1539992  </td><td> 1749318  </td><td> 12311696 </td><td> 18500014 </td></tr>\n",
       "\t<tr><td>2007-12-31</td><td>   28021  </td><td>   54567  </td><td> 16489813 </td><td> 39599944 </td></tr>\n",
       "\t<tr><td>2006-12-31</td><td>    2652  </td><td>    3821  </td><td> 29273920 </td><td>102072480 </td></tr>\n",
       "\t<tr><td>2005-12-31</td><td> 7067402  </td><td>23722957  </td><td> 46497438 </td><td>147583380 </td></tr>\n",
       "\t<tr><td>2004-12-31</td><td> 1033672  </td><td> 1964980  </td><td> 27131638 </td><td> 78268792 </td></tr>\n",
       "</tbody>\n",
       "</table>\n"
      ],
      "text/latex": [
       "\\begin{tabular}{r|lllll}\n",
       " Date & Import & Weight\\_I & Export & Weight\\_E\\\\\n",
       "\\hline\n",
       "\t 2013-12-31 & 37664782   & 54029106   &  54505513  &  93350013 \\\\\n",
       "\t 2012-12-31 & 16316512   & 21584365   & 102700010  & 158000010 \\\\\n",
       "\t 2011-12-31 & 11082246   & 14526089   &  37935000  &  88000000 \\\\\n",
       "\t 2010-12-31 & 35677943   & 55034932   &  48515008  & 112000005 \\\\\n",
       "\t 2009-12-31 &  9879878   & 14806865   &  71486545  & 131800000 \\\\\n",
       "\t 2008-12-31 &  1539992   &  1749318   &  12311696  &  18500014 \\\\\n",
       "\t 2007-12-31 &    28021   &    54567   &  16489813  &  39599944 \\\\\n",
       "\t 2006-12-31 &     2652   &     3821   &  29273920  & 102072480 \\\\\n",
       "\t 2005-12-31 &  7067402   & 23722957   &  46497438  & 147583380 \\\\\n",
       "\t 2004-12-31 &  1033672   &  1964980   &  27131638  &  78268792 \\\\\n",
       "\\end{tabular}\n"
      ],
      "text/markdown": [
       "\n",
       "| Date | Import | Weight_I | Export | Weight_E |\n",
       "|---|---|---|---|---|\n",
       "| 2013-12-31 | 37664782   | 54029106   |  54505513  |  93350013  |\n",
       "| 2012-12-31 | 16316512   | 21584365   | 102700010  | 158000010  |\n",
       "| 2011-12-31 | 11082246   | 14526089   |  37935000  |  88000000  |\n",
       "| 2010-12-31 | 35677943   | 55034932   |  48515008  | 112000005  |\n",
       "| 2009-12-31 |  9879878   | 14806865   |  71486545  | 131800000  |\n",
       "| 2008-12-31 |  1539992   |  1749318   |  12311696  |  18500014  |\n",
       "| 2007-12-31 |    28021   |    54567   |  16489813  |  39599944  |\n",
       "| 2006-12-31 |     2652   |     3821   |  29273920  | 102072480  |\n",
       "| 2005-12-31 |  7067402   | 23722957   |  46497438  | 147583380  |\n",
       "| 2004-12-31 |  1033672   |  1964980   |  27131638  |  78268792  |\n",
       "\n"
      ],
      "text/plain": [
       "   Date       Import   Weight_I Export    Weight_E \n",
       "1  2013-12-31 37664782 54029106  54505513  93350013\n",
       "2  2012-12-31 16316512 21584365 102700010 158000010\n",
       "3  2011-12-31 11082246 14526089  37935000  88000000\n",
       "4  2010-12-31 35677943 55034932  48515008 112000005\n",
       "5  2009-12-31  9879878 14806865  71486545 131800000\n",
       "6  2008-12-31  1539992  1749318  12311696  18500014\n",
       "7  2007-12-31    28021    54567  16489813  39599944\n",
       "8  2006-12-31     2652     3821  29273920 102072480\n",
       "9  2005-12-31  7067402 23722957  46497438 147583380\n",
       "10 2004-12-31  1033672  1964980  27131638  78268792"
      ]
     },
     "metadata": {},
     "output_type": "display_data"
    }
   ],
   "source": [
    "sugar"
   ]
  },
  {
   "cell_type": "code",
   "execution_count": 6,
   "metadata": {},
   "outputs": [
    {
     "data": {
      "image/png": "[encoded data removed]",
      "text/plain": [
       "plot without title"
      ]
     },
     "metadata": {},
     "output_type": "display_data"
    }
   ],
   "source": [
    "plot(sugar$Import,sugar$Weight_I)"
   ]
  },
  {
   "cell_type": "markdown",
   "metadata": {},
   "source": [
    "The import figures in USD and the import figures in weight are rather positively correlated.\n",
    "\n",
    "You can spot an increasing trend among the data points. This of course makes sense: the more sugar is traded, the higher the weight that's traded."
   ]
  },
  {
   "cell_type": "markdown",
   "metadata": {},
   "source": [
    "### Import SPSS data with haven\n",
    "\n",
    "The `haven` package can also import data files from SPSS. Depending on the SPSS data file you're working with, you'll need either `read_sav()` - for **`.sav`** files - or `read_por()` - for **`.por`** files.\n",
    "\n",
    "We will work with data on four of the Big Five personality traits for 434 persons (Source: [University of Bath](http://staff.bath.ac.uk/pssiw/stats2/page16/page16.html)). The Big Five is a psychological concept including, originally, five dimensions of personality to classify human personality. The SPSS dataset is called [person.sav](http://s3.amazonaws.com/assets.datacamp.com/production/course_1478/datasets/person.sav)"
   ]
  },
  {
   "cell_type": "code",
   "execution_count": 7,
   "metadata": {},
   "outputs": [
    {
     "data": {
      "text/plain": [
       "    Neurotic      Extroversion   Agreeableness   Conscientiousness\n",
       " Min.   : 0.00   Min.   : 5.00   Min.   :15.00   Min.   : 7.00    \n",
       " 1st Qu.:18.00   1st Qu.:26.00   1st Qu.:39.00   1st Qu.:25.00    \n",
       " Median :24.00   Median :31.00   Median :45.00   Median :30.00    \n",
       " Mean   :23.63   Mean   :30.23   Mean   :44.55   Mean   :30.85    \n",
       " 3rd Qu.:29.00   3rd Qu.:34.00   3rd Qu.:50.00   3rd Qu.:36.00    \n",
       " Max.   :44.00   Max.   :65.00   Max.   :73.00   Max.   :58.00    \n",
       " NA's   :14      NA's   :16      NA's   :19      NA's   :14       "
      ]
     },
     "metadata": {},
     "output_type": "display_data"
    },
    {
     "data": {
      "text/html": [
       "<table>\n",
       "<thead><tr><th scope=col>Neurotic</th><th scope=col>Extroversion</th><th scope=col>Agreeableness</th><th scope=col>Conscientiousness</th></tr></thead>\n",
       "<tbody>\n",
       "\t<tr><td>38</td><td>43</td><td>49</td><td>29</td></tr>\n",
       "\t<tr><td>20</td><td>42</td><td>46</td><td>31</td></tr>\n",
       "\t<tr><td>18</td><td>42</td><td>49</td><td>31</td></tr>\n",
       "\t<tr><td>42</td><td>43</td><td>44</td><td>29</td></tr>\n",
       "\t<tr><td>30</td><td>42</td><td>51</td><td>24</td></tr>\n",
       "\t<tr><td>18</td><td>42</td><td>50</td><td>25</td></tr>\n",
       "\t<tr><td>27</td><td>45</td><td>55</td><td>23</td></tr>\n",
       "\t<tr><td>18</td><td>43</td><td>57</td><td>34</td></tr>\n",
       "</tbody>\n",
       "</table>\n"
      ],
      "text/latex": [
       "\\begin{tabular}{r|llll}\n",
       " Neurotic & Extroversion & Agreeableness & Conscientiousness\\\\\n",
       "\\hline\n",
       "\t 38 & 43 & 49 & 29\\\\\n",
       "\t 20 & 42 & 46 & 31\\\\\n",
       "\t 18 & 42 & 49 & 31\\\\\n",
       "\t 42 & 43 & 44 & 29\\\\\n",
       "\t 30 & 42 & 51 & 24\\\\\n",
       "\t 18 & 42 & 50 & 25\\\\\n",
       "\t 27 & 45 & 55 & 23\\\\\n",
       "\t 18 & 43 & 57 & 34\\\\\n",
       "\\end{tabular}\n"
      ],
      "text/markdown": [
       "\n",
       "| Neurotic | Extroversion | Agreeableness | Conscientiousness |\n",
       "|---|---|---|---|\n",
       "| 38 | 43 | 49 | 29 |\n",
       "| 20 | 42 | 46 | 31 |\n",
       "| 18 | 42 | 49 | 31 |\n",
       "| 42 | 43 | 44 | 29 |\n",
       "| 30 | 42 | 51 | 24 |\n",
       "| 18 | 42 | 50 | 25 |\n",
       "| 27 | 45 | 55 | 23 |\n",
       "| 18 | 43 | 57 | 34 |\n",
       "\n"
      ],
      "text/plain": [
       "  Neurotic Extroversion Agreeableness Conscientiousness\n",
       "1 38       43           49            29               \n",
       "2 20       42           46            31               \n",
       "3 18       42           49            31               \n",
       "4 42       43           44            29               \n",
       "5 30       42           51            24               \n",
       "6 18       42           50            25               \n",
       "7 27       45           55            23               \n",
       "8 18       43           57            34               "
      ]
     },
     "metadata": {},
     "output_type": "display_data"
    }
   ],
   "source": [
    "traits = read_sav(\"http://s3.amazonaws.com/assets.datacamp.com/production/course_1478/datasets/person.sav\")\n",
    "summary(traits)\n",
    "subset(traits, Agreeableness>40 & Extroversion>40)"
   ]
  },
  {
   "cell_type": "markdown",
   "metadata": {},
   "source": [
    "The data below involves information on employees and their demographic and economic attributes (Source: [QRiE](http://cehd.gmu.edu/book/dimitrov/spss)). The data can be found on the following URL:\n",
    "\n",
    "http://s3.amazonaws.com/assets.datacamp.com/production/course_1478/datasets/employee.sav"
   ]
  },
  {
   "cell_type": "code",
   "execution_count": 8,
   "metadata": {},
   "outputs": [
    {
     "data": {
      "text/plain": [
       "       ID           GENDER              BDATE                 EDUC      \n",
       " Min.   :  1.0   Length:474         Min.   :-1.290e+09   Min.   : 8.00  \n",
       " 1st Qu.:119.2   Class :character   1st Qu.:-6.941e+08   1st Qu.:12.00  \n",
       " Median :237.5   Mode  :character   Median :-2.506e+08   Median :12.00  \n",
       " Mean   :237.5                      Mean   :-4.175e+08   Mean   :13.49  \n",
       " 3rd Qu.:355.8                      3rd Qu.:-1.417e+08   3rd Qu.:15.00  \n",
       " Max.   :474.0                      Max.   : 3.499e+07   Max.   :21.00  \n",
       "                                    NA's   :1                           \n",
       "     JOBCAT          SALARY          SALBEGIN        JOBTIME     \n",
       " Min.   :1.000   Min.   : 15750   Min.   : 9000   Min.   :63.00  \n",
       " 1st Qu.:1.000   1st Qu.: 24000   1st Qu.:12488   1st Qu.:72.00  \n",
       " Median :1.000   Median : 28875   Median :15000   Median :81.00  \n",
       " Mean   :1.411   Mean   : 34420   Mean   :17016   Mean   :81.11  \n",
       " 3rd Qu.:1.000   3rd Qu.: 36938   3rd Qu.:17490   3rd Qu.:90.00  \n",
       " Max.   :3.000   Max.   :135000   Max.   :79980   Max.   :98.00  \n",
       "                                                                 \n",
       "    PREVEXP          MINORITY         SALMONTH        WITHHOLD     \n",
       " Min.   :  0.00   Min.   :0.0000   Min.   : 1312   Min.   : 65.62  \n",
       " 1st Qu.: 19.25   1st Qu.:0.0000   1st Qu.: 2000   1st Qu.:100.00  \n",
       " Median : 55.00   Median :0.0000   Median : 2406   Median :120.31  \n",
       " Mean   : 95.86   Mean   :0.2194   Mean   : 2868   Mean   :143.41  \n",
       " 3rd Qu.:138.75   3rd Qu.:0.0000   3rd Qu.: 3078   3rd Qu.:153.91  \n",
       " Max.   :476.00   Max.   :1.0000   Max.   :11250   Max.   :562.50  \n",
       "                                                                   \n",
       "    NETMONTH        FILTER_$     \n",
       " Min.   : 1247   Min.   :0.0000  \n",
       " 1st Qu.: 1900   1st Qu.:0.0000  \n",
       " Median : 2286   Median :0.0000  \n",
       " Mean   : 2725   Mean   :0.1416  \n",
       " 3rd Qu.: 2924   3rd Qu.:0.0000  \n",
       " Max.   :10688   Max.   :1.0000  \n",
       "                 NA's   :1       "
      ]
     },
     "metadata": {},
     "output_type": "display_data"
    },
    {
     "data": {
      "text/plain": [
       "   Length     Class      Mode \n",
       "      474 character character "
      ]
     },
     "metadata": {},
     "output_type": "display_data"
    },
    {
     "data": {
      "text/html": [
       "<dl class=dl-horizontal>\n",
       "\t<dt>Female</dt>\n",
       "\t\t<dd>216</dd>\n",
       "\t<dt>Male</dt>\n",
       "\t\t<dd>258</dd>\n",
       "</dl>\n"
      ],
      "text/latex": [
       "\\begin{description*}\n",
       "\\item[Female] 216\n",
       "\\item[Male] 258\n",
       "\\end{description*}\n"
      ],
      "text/markdown": [
       "Female\n",
       ":   216Male\n",
       ":   258\n",
       "\n"
      ],
      "text/plain": [
       "Female   Male \n",
       "   216    258 "
      ]
     },
     "metadata": {},
     "output_type": "display_data"
    }
   ],
   "source": [
    "work = read_sav(\"http://s3.amazonaws.com/assets.datacamp.com/production/course_1478/datasets/employee.sav\")\n",
    "summary(work)\n",
    "summary(work$GENDER)\n",
    "work$GENDER = as_factor(work$GENDER)\n",
    "summary(work$GENDER)"
   ]
  },
  {
   "cell_type": "markdown",
   "metadata": {},
   "source": [
    "Importing data on the US presidential elections in the year 2000. The data in `florida.dta` contains the total numbers of votes for each of the four candidates as well as the total number of votes per election area in the state of Florida (Source: [Florida Department of State](http://results.elections.myflorida.com/)). The file can be downloaded [here](http://s3.amazonaws.com/assets.datacamp.com/production/course_1478/datasets/florida.dta) "
   ]
  },
  {
   "cell_type": "code",
   "execution_count": 11,
   "metadata": {},
   "outputs": [
    {
     "data": {
      "text/html": [
       "<table>\n",
       "<thead><tr><th scope=col>gore</th><th scope=col>bush</th><th scope=col>buchanan</th><th scope=col>nader</th><th scope=col>total</th></tr></thead>\n",
       "<tbody>\n",
       "\t<tr><td> 2647 </td><td> 4051 </td><td> 27   </td><td>  59  </td><td>  6784</td></tr>\n",
       "\t<tr><td> 1399 </td><td> 2326 </td><td> 26   </td><td>  29  </td><td>  3780</td></tr>\n",
       "\t<tr><td>97063 </td><td>82214 </td><td>396   </td><td>2436  </td><td>182109</td></tr>\n",
       "\t<tr><td> 3835 </td><td> 4511 </td><td> 46   </td><td> 149  </td><td>  8541</td></tr>\n",
       "\t<tr><td> 5637 </td><td>12176 </td><td>120   </td><td> 265  </td><td> 18198</td></tr>\n",
       "\t<tr><td> 2796 </td><td> 4983 </td><td> 88   </td><td>  93  </td><td>  7960</td></tr>\n",
       "</tbody>\n",
       "</table>\n"
      ],
      "text/latex": [
       "\\begin{tabular}{r|lllll}\n",
       " gore & bush & buchanan & nader & total\\\\\n",
       "\\hline\n",
       "\t  2647  &  4051  &  27    &   59   &   6784\\\\\n",
       "\t  1399  &  2326  &  26    &   29   &   3780\\\\\n",
       "\t 97063  & 82214  & 396    & 2436   & 182109\\\\\n",
       "\t  3835  &  4511  &  46    &  149   &   8541\\\\\n",
       "\t  5637  & 12176  & 120    &  265   &  18198\\\\\n",
       "\t  2796  &  4983  &  88    &   93   &   7960\\\\\n",
       "\\end{tabular}\n"
      ],
      "text/markdown": [
       "\n",
       "| gore | bush | buchanan | nader | total |\n",
       "|---|---|---|---|---|\n",
       "|  2647  |  4051  |  27    |   59   |   6784 |\n",
       "|  1399  |  2326  |  26    |   29   |   3780 |\n",
       "| 97063  | 82214  | 396    | 2436   | 182109 |\n",
       "|  3835  |  4511  |  46    |  149   |   8541 |\n",
       "|  5637  | 12176  | 120    |  265   |  18198 |\n",
       "|  2796  |  4983  |  88    |   93   |   7960 |\n",
       "\n"
      ],
      "text/plain": [
       "  gore  bush  buchanan nader total \n",
       "1  2647  4051  27        59    6784\n",
       "2  1399  2326  26        29    3780\n",
       "3 97063 82214 396      2436  182109\n",
       "4  3835  4511  46       149    8541\n",
       "5  5637 12176 120       265   18198\n",
       "6  2796  4983  88        93    7960"
      ]
     },
     "metadata": {},
     "output_type": "display_data"
    }
   ],
   "source": [
    "florida = read_dta(\"http://s3.amazonaws.com/assets.datacamp.com/production/course_1478/datasets/florida.dta\")\n",
    "tail(florida)"
   ]
  },
  {
   "cell_type": "markdown",
   "metadata": {},
   "source": [
    "working with socio-economic variables from different countries (Source: [Quantative Data Analysis in Education](http://cw.routledge.com/textbooks/9780415372985/resources/datasets.asp)). The SPSS data is in a file called `international.sav`, which is in your working directory. You can also download it [here](http://s3.amazonaws.com/assets.datacamp.com/production/course_1478/datasets/international.sav) "
   ]
  },
  {
   "cell_type": "code",
   "execution_count": 13,
   "metadata": {},
   "outputs": [
    {
     "data": {
      "image/png": "[encoded data removed]",
      "text/plain": [
       "plot without title"
      ]
     },
     "metadata": {},
     "output_type": "display_data"
    }
   ],
   "source": [
    "international = read_sav(\"http://s3.amazonaws.com/assets.datacamp.com/production/course_1478/datasets/international.sav\")\n",
    "boxplot(international$gdp)"
   ]
  },
  {
   "cell_type": "code",
   "execution_count": 14,
   "metadata": {},
   "outputs": [
    {
     "data": {
      "text/html": [
       "-0.447685621057218"
      ],
      "text/latex": [
       "-0.447685621057218"
      ],
      "text/markdown": [
       "-0.447685621057218"
      ],
      "text/plain": [
       "[1] -0.4476856"
      ]
     },
     "metadata": {},
     "output_type": "display_data"
    }
   ],
   "source": [
    "cor(international$gdp, international$f_illit)"
   ]
  },
  {
   "cell_type": "markdown",
   "metadata": {},
   "source": [
    "The correlation is around -0.45. There is a negative correlation, but it is rather weak. That indicates a negative association among GDP and female illiteracy."
   ]
  }
 ],
 "metadata": {
  "kernelspec": {
   "display_name": "R",
   "language": "R",
   "name": "ir"
  },
  "language_info": {
   "codemirror_mode": "r",
   "file_extension": ".r",
   "mimetype": "text/x-r-source",
   "name": "R",
   "pygments_lexer": "r",
   "version": "3.6.1"
  }
 },
 "nbformat": 4,
 "nbformat_minor": 4
}
